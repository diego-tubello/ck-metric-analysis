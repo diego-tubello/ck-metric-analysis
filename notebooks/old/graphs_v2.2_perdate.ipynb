{
 "cells": [
  {
   "cell_type": "code",
   "execution_count": null,
   "metadata": {},
   "outputs": [],
   "source": [
    "import pandas as pd\n",
    "import matplotlib.pyplot as plt\n",
    "import seaborn as sns\n",
    "import os\n",
    "\n",
    "df = pd.read_csv('../output/pa-as-yo-go-ap.csv')\n",
    "\n",
    "#filter out rows where file column contains src/test/java\n",
    "df = df[~df['file'].str.contains('src/test/java')]\n",
    "# filter out rows where type column is equal tu enum\n",
    "df = df[df['type'] != 'enum']\n",
    "\n",
    "# Strip any leading or trailing spaces from column names\n",
    "df.columns = df.columns.str.strip()\n",
    "\n",
    "df = df[['tag_date', 'tag_name', 'class', 'wmc', 'dit', 'noc', 'cbo', 'rfc', 'lcom']]\n",
    "df.columns = ['TagDate', 'TagName', 'ClassName', 'WMC', 'DIT', 'NOC', 'CBO', 'RFC', 'LCOM']\n",
    "df.columns = df.columns.str.strip()\n",
    "df['TagDate'] = pd.to_datetime(df['TagDate'])\n",
    "\n",
    "# Generate histograms and KDE plots for each metric from both DataFrames and display them side by side using subplots\n",
    "metrics = ['WMC', 'DIT', 'NOC', 'CBO', 'RFC', 'LCOM']\n",
    "\n",
    "# group rows by TagDate, and plot histograms for each metric, update the ode below to plot one row per date\n",
    "dfs = {repo_name: repo_df for repo_name, repo_df in df.groupby('TagDate')}\n",
    "\n",
    "num_repos = len(dfs)\n",
    "num_metrics = len(metrics)\n",
    "\n",
    "fig, axes = plt.subplots(nrows=num_repos, ncols=num_metrics, figsize=(5 * num_metrics, 5 * num_repos), sharey=False, sharex=False)\n",
    "\n",
    "for row, (repo_name, df) in enumerate(dfs.items()):\n",
    "    for col, metric in enumerate(metrics):\n",
    "        ax = axes[row, col]\n",
    "        sns.histplot(df[metric], bins=50, kde=True, ax=ax, edgecolor='black')\n",
    "        ax.set_title(f'{metric} - {repo_name}', fontsize=14, fontweight='bold')\n",
    "        ax.set_xlabel(metric, fontsize=12)\n",
    "        ax.set_ylabel('Frequency', fontsize=12)\n",
    "        ax.grid(True, linestyle='--', alpha=0.7)\n",
    "        ax.text(0.95, 0.95, f'Classes: {len(df[metric])}\\n\\nMean: {df[metric].mean():.2f}\\nMedian: {df[metric].median():.2f}\\nMax: {df[metric].max():.2f}', \n",
    "                transform=ax.transAxes, verticalalignment='top', horizontalalignment='right')\n",
    "        ax.set_xlim(left=df[metric].min())\n",
    "\n",
    "plt.tight_layout()\n",
    "plt.show()\n",
    "\n"
   ]
  }
 ],
 "metadata": {
  "kernelspec": {
   "display_name": "Python 3",
   "language": "python",
   "name": "python3"
  },
  "language_info": {
   "codemirror_mode": {
    "name": "ipython",
    "version": 3
   },
   "file_extension": ".py",
   "mimetype": "text/x-python",
   "name": "python",
   "nbconvert_exporter": "python",
   "pygments_lexer": "ipython3",
   "version": "3.11.9"
  }
 },
 "nbformat": 4,
 "nbformat_minor": 2
}
