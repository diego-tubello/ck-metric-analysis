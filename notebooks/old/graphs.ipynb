{
 "cells": [
  {
   "cell_type": "code",
   "execution_count": null,
   "metadata": {},
   "outputs": [],
   "source": [
    "import pandas as pd\n",
    "import matplotlib.pyplot as plt\n",
    "import os\n",
    "\n",
    "csv_folder = 'csv'\n",
    "\n",
    "# Create a dictionary to hold the DataFrames\n",
    "dfs = {}\n",
    "\n",
    "# Iterate over all files in the folder\n",
    "for filename in os.listdir(csv_folder):\n",
    "    file_path = os.path.join(csv_folder, filename)\n",
    "    df = pd.read_csv(file_path)\n",
    "    key = os.path.splitext(filename)[0]\n",
    "    dfs[key] = df\n",
    "\n",
    "# Generate histograms for each metric from both DataFrames and display them side by side using subplots\n",
    "metrics = ['WMC', 'DIT', 'NOC', 'CBO', 'RFC', 'LCOM']\n",
    "\n",
    "num_repos = len(dfs)\n",
    "num_metrics = len(metrics)\n",
    "\n",
    "fig, axes = plt.subplots(nrows=num_repos, ncols=num_metrics, figsize=(5 * num_metrics, 5 * num_repos), sharey=False, sharex=False)\n",
    "\n",
    "for row, (repo_name, df) in enumerate(dfs.items()):\n",
    "    for col, metric in enumerate(metrics):\n",
    "        ax = axes[row, col]\n",
    "        ax.hist(df[metric], bins=50, edgecolor='black')\n",
    "        ax.set_title(f'{metric} - {repo_name}', fontsize=14, fontweight='bold')\n",
    "        ax.set_xlabel(metric, fontsize=12)\n",
    "        ax.set_ylabel('Frequency', fontsize=12)\n",
    "        ax.grid(True, linestyle='--', alpha=0.7)\n",
    "        ax.text(0.95, 0.95, f'Classes: {len(df[metric]):.2f}\\nMedian: {df[metric].median():.2f}\\nMax: {df[metric].max():.2f}', \n",
    "                transform=ax.transAxes, verticalalignment='top', horizontalalignment='right')\n",
    "\n",
    "plt.tight_layout()\n",
    "plt.show()"
   ]
  }
 ],
 "metadata": {
  "kernelspec": {
   "display_name": "Python 3",
   "language": "python",
   "name": "python3"
  },
  "language_info": {
   "codemirror_mode": {
    "name": "ipython",
    "version": 3
   },
   "file_extension": ".py",
   "mimetype": "text/x-python",
   "name": "python",
   "nbconvert_exporter": "python",
   "pygments_lexer": "ipython3",
   "version": "3.11.9"
  }
 },
 "nbformat": 4,
 "nbformat_minor": 2
}
