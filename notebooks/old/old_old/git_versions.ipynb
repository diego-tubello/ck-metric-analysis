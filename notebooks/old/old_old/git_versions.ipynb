{
 "cells": [
  {
   "cell_type": "code",
   "execution_count": null,
   "metadata": {},
   "outputs": [],
   "source": [
    "from git import Repo\n",
    "from datetime import datetime\n",
    "\n",
    "# Path to the local repository (already cloned)\n",
    "repo_path = \"/Users/dtubello/tesis/repos/prepaid-api\"\n",
    "\n",
    "\n",
    "# Open the repository\n",
    "repo = Repo(repo_path)\n",
    "\n",
    "try:\n",
    "    # Define the date range\n",
    "    start_date = datetime(2023, 1, 1)  # Start date (inclusive)\n",
    "    end_date = datetime.now()          # Current date\n",
    "\n",
    "    # Get the current branch name\n",
    "    current_branch = repo.active_branch.name\n",
    "\n",
    "    # Get all commits reachable from the current branch\n",
    "    branch_commits = {commit.hexsha for commit in repo.iter_commits(current_branch)}\n",
    "\n",
    "    # Collect and filter tags by date range\n",
    "    tags = []\n",
    "    for tag in repo.tags:\n",
    "        tag_commit = tag.commit\n",
    "        if tag_commit.hexsha in branch_commits:\n",
    "            tag_date = datetime.fromtimestamp(tag_commit.committed_date)  # Commit date\n",
    "            if start_date <= tag_date <= end_date:\n",
    "                tags.append({\n",
    "                    \"name\": tag.name,\n",
    "                    \"hash\": tag_commit.hexsha,\n",
    "                    \"date\": tag_date,\n",
    "                    \"message\": tag_commit.message.strip(),\n",
    "                })\n",
    "\n",
    "    # Sort tags by date in descending order\n",
    "    tags = sorted(tags, key=lambda x: x[\"date\"], reverse=True)\n",
    "\n",
    "    # Print filtered and sorted tags\n",
    "    print(f\"Tags from branch '{current_branch}' (from {start_date.date()} to {end_date.date()}):\")\n",
    "    for tag in tags:\n",
    "        print(f\"Tag: {tag['name']}\")\n",
    "        print(f\"Commit: {tag['hash']}\")\n",
    "        print(f\"Date: {tag['date']}\")\n",
    "        print(f\"Message: {tag['message']}\")\n",
    "        print(\"--------------------\")\n",
    "except Exception as e:\n",
    "    print(f\"An error occurred: {e}\")\n"
   ]
  }
 ],
 "metadata": {
  "kernelspec": {
   "display_name": "Python 3",
   "language": "python",
   "name": "python3"
  },
  "language_info": {
   "codemirror_mode": {
    "name": "ipython",
    "version": 3
   },
   "file_extension": ".py",
   "mimetype": "text/x-python",
   "name": "python",
   "nbconvert_exporter": "python",
   "pygments_lexer": "ipython3",
   "version": "3.11.9"
  }
 },
 "nbformat": 4,
 "nbformat_minor": 2
}
