{
 "cells": [
  {
   "cell_type": "code",
   "execution_count": null,
   "metadata": {},
   "outputs": [],
   "source": [
    "from git import Repo\n",
    "import re\n",
    "import datetime\n",
    "\n",
    "# Path to the local repository (already cloned)\n",
    "repo_path = \"/Users/dtubello/tesis/repos/prepaid-api\"\n",
    "\n",
    "# Open the repository\n",
    "repo = Repo(repo_path)\n",
    "\n",
    "# Define a regex pattern for releasable version tags (e.g., 1.2.3, 1.2.3-rc-1, 1.2.3-hotfix-2)\n",
    "releasable_tag_pattern = re.compile(r'^\\d+\\.\\d+\\.\\d+(-rc-\\d+|-hotfix-\\d+)?$')\n",
    "\n",
    "# Get all tags\n",
    "tags = repo.tags\n",
    "\n",
    "start_date = datetime.datetime(2023, 1, 1, tzinfo=datetime.timezone(datetime.timedelta(hours=-3)))\n",
    "\n",
    "# Filter tags based on the releasable version pattern  and the commit date after 1/1/2023\n",
    "releasable_tags = [tag for tag in tags if releasable_tag_pattern.match(tag.name) and tag.commit.committed_datetime > start_date]\n",
    "releasable_tags.sort(key=lambda x: x.commit.committed_datetime)\n",
    "\n",
    "# Print the releasable tags\n",
    "print(\"Releasable version tags:\")\n",
    "for tag in releasable_tags:\n",
    "    print(f\"Tag: {tag.name}, Commit: {tag.commit.hexsha}, Date: {tag.commit.committed_datetime}\")\n",
    "\n",
    "len(releasable_tags)"
   ]
  },
  {
   "cell_type": "code",
   "execution_count": null,
   "metadata": {},
   "outputs": [],
   "source": []
  }
 ],
 "metadata": {
  "kernelspec": {
   "display_name": "Python 3",
   "language": "python",
   "name": "python3"
  },
  "language_info": {
   "codemirror_mode": {
    "name": "ipython",
    "version": 3
   },
   "file_extension": ".py",
   "mimetype": "text/x-python",
   "name": "python",
   "nbconvert_exporter": "python",
   "pygments_lexer": "ipython3",
   "version": "3.11.9"
  }
 },
 "nbformat": 4,
 "nbformat_minor": 2
}
