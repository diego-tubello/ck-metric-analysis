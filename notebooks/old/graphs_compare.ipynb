{
 "cells": [
  {
   "cell_type": "code",
   "execution_count": null,
   "metadata": {},
   "outputs": [],
   "source": [
    "import pandas as pd\n",
    "import matplotlib.pyplot as plt\n",
    "import seaborn as sns\n",
    "import os\n",
    "\n",
    "df_java = pd.read_csv('../output/pr-ap_java.csv')\n",
    "df_java.columns = df_java.columns.str.strip()\n",
    "df_java['TagDate'] = pd.to_datetime(df_java['TagDate'])\n",
    "\n",
    "\n",
    "df_py = pd.read_csv('../output/pr-ap.csv')\n",
    "df_py = df_py[['tag_date', 'tag_name', 'class', 'wmc', 'dit', 'noc', 'cbo', 'rfc', 'lcom']]\n",
    "df_py.columns = ['TagDate', 'TagName', 'ClassName', 'WMC', 'DIT', 'NOC', 'CBO', 'RFC', 'LCOM']\n",
    "df_java.columns = df_java.columns.str.strip()\n",
    "df_py['TagDate'] = pd.to_datetime(df_py['TagDate'])\n",
    "\n",
    "# Group by date and calculate the median for each group, excluding non-numeric columns\n",
    "grouped_java = df_java.groupby('TagDate').sum(numeric_only=True)\n",
    "grouped_py = df_py.groupby('TagDate').sum(numeric_only=True)\n",
    "\n",
    "# Create a subplot for each metric. Each subplot will contain a line plot for Java and Python metric, for example WMC vs WMC, etc. Show graps for all metrics except LCOM\n",
    "metrics = ['WMC', 'DIT', 'NOC', 'CBO', 'RFC']\n",
    "fig, axes = plt.subplots(len(metrics), 1, figsize=(10, 20), sharex=True)\n",
    "for i, metric in enumerate(metrics):\n",
    "    # Plot Java and Python lines for the metric\n",
    "    axes[i].plot(grouped_java.index, grouped_java[metric], label='Java')\n",
    "    axes[i].plot(grouped_py.index, grouped_py[metric], label='Python')\n",
    "    # Set the title and y-axis label for the subplot\n",
    "    axes[i].set_title(metric)\n",
    "    axes[i].set_ylabel(metric)\n",
    "    # Add a legend to the subplot\n",
    "    axes[i].legend()\n",
    "\n",
    "\n",
    "\n"
   ]
  }
 ],
 "metadata": {
  "kernelspec": {
   "display_name": "Python 3",
   "language": "python",
   "name": "python3"
  },
  "language_info": {
   "codemirror_mode": {
    "name": "ipython",
    "version": 3
   },
   "file_extension": ".py",
   "mimetype": "text/x-python",
   "name": "python",
   "nbconvert_exporter": "python",
   "pygments_lexer": "ipython3",
   "version": "3.11.9"
  }
 },
 "nbformat": 4,
 "nbformat_minor": 2
}
