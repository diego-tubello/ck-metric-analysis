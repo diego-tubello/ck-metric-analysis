{
 "cells": [
  {
   "cell_type": "code",
   "execution_count": null,
   "metadata": {},
   "outputs": [],
   "source": [
    "import sys\n",
    "import pandas as pd\n",
    "import matplotlib.pyplot as plt\n",
    "import seaborn as sns\n",
    "sys.path.append('../')\n",
    "from ck_analysis import get_repo_id\n",
    "\n",
    "repo_names = [\"pay-as-you-go-api\", \"paygo-telepase-api\", \"prepaid-api\", \"sp-utilities-provider-api\", \"paygo-taggy-api\"]\n",
    "\n",
    "for repo_name in repo_names:\n",
    "    df = pd.read_csv(f'../output/deploys/raw/{repo_name}_deploys.csv')\n",
    "    df.columns = df.columns.str.strip()\n",
    "    df[\"PERIOD_DATE\"] = pd.to_datetime(df[\"period_date (Año y mes)\"], format='%b %Y', errors='coerce', dayfirst=True)\n",
    "    df[\"DEPLOYS\"] = df[\"Deploys\"]\n",
    "    df[\"ROLLBACKED_DEPLOYS\"] = df[\"Rollbacked Deploys\"]\n",
    "    df = df[['PERIOD_DATE', 'DEPLOYS', 'ROLLBACKED_DEPLOYS']]\n",
    "    df.to_csv(f'../output/deploys/{get_repo_id(repo_name)}_deploys.csv', index=False)\n",
    "\n"
   ]
  },
  {
   "cell_type": "code",
   "execution_count": null,
   "metadata": {},
   "outputs": [],
   "source": [
    "import sys\n",
    "import pandas as pd\n",
    "import matplotlib.pyplot as plt\n",
    "import seaborn as sns\n",
    "sys.path.append('../')\n",
    "from ck_analysis import get_repo_id\n",
    "\n",
    "df = pd.read_csv('../output/static_analisys/raw/static_analisys_issues_master.csv')\n",
    "df.columns = df.columns.str.strip()\n",
    "df[\"CREATE_DTTM\"] = pd.to_datetime(df[\"CREATE_DTTM\"])\n",
    "df[\"REPO_NAME\"] = df[\"APPLICATION_NAME\"].apply(get_repo_id)\n",
    "\n",
    "severity_weights = {'low': 1, 'medium': 3, 'high': 5}\n",
    "df['TOTAL_ISSUES_WEIGHTED'] = df['ISSUE_SEVERITY'].map(severity_weights) * df['TOTAL_ISSUES_QTY']\n",
    "\n",
    "df = df.groupby([\"CREATE_DTTM\", \"REPO_NAME\", \"PROVIDER\"]).agg({\"TOTAL_ISSUES_WEIGHTED\": \"sum\", \"TOTAL_ISSUES_QTY\": \"sum\"}).reset_index()\n",
    "df.to_csv('../output/static_analisys/static_analisys_master.csv', index=False)"
   ]
  },
  {
   "cell_type": "code",
   "execution_count": null,
   "metadata": {},
   "outputs": [],
   "source": [
    "import sys\n",
    "import pandas as pd\n",
    "import matplotlib.pyplot as plt\n",
    "import seaborn as sns\n",
    "\n",
    "df = pd.read_csv('../output/static_analisys/static_analisys_issues.csv')\n",
    "\n",
    "# obtener los distintos valores de la combinacion de coliumnas PROVIDER y ISSUE_SEVERITY\n",
    "df = df[[\"ISSUE_SEVERITY\", \"PROVIDER\"]].drop_duplicates()\n",
    "df.sort_values(by=[\"PROVIDER\"], ascending=False)"
   ]
  },
  {
   "cell_type": "code",
   "execution_count": null,
   "metadata": {},
   "outputs": [],
   "source": [
    "import pandas as pd\n",
    "\n",
    "def weighted_average(group, value_col, weight_col):\n",
    "    return (group[value_col] * group[weight_col]).sum() / group[weight_col].sum()\n",
    "\n",
    "\n",
    "df = pd.read_csv('../datasets/apps_ck_monthly.csv')\n",
    "# Strip any leading or trailing spaces from column names\n",
    "df.columns = df.columns.str.strip()\n",
    "\n",
    "# Remove any rows where the type is enum\n",
    "df = df[df['type'] != 'enum']\n",
    "# Remove any rows where the class name contains \".dto.\" \n",
    "df = df[~df['class'].str.contains('.dto.')]\n",
    "\n",
    "df = df[['tag_date', 'tag_name', 'class', 'wmc', 'dit', 'noc', 'cbo', 'rfc', 'lcom', 'loc']]\n",
    "df.columns = ['TagDate', 'TagName', 'ClassName', 'WMC', 'DIT', 'NOC', 'CBO', 'RFC', 'LCOM', 'LOC']\n",
    "df['TagDate'] = pd.to_datetime(df['TagDate'])\n",
    "\n",
    "grouped_metrics = df.groupby('TagDate')[['WMC', 'DIT', 'NOC', 'CBO', 'RFC', 'LCOM']]\n",
    "\n",
    "median_by_date = grouped_metrics.median()\n",
    "mean_by_date = grouped_metrics.mean()\n",
    "\n",
    "# Crear un diccionario de funciones de agregación\n",
    "agg_funcs = {metric: lambda x, col=metric: weighted_average(df.loc[x.index], col, 'LOC') \n",
    "            for metric in ['WMC', 'DIT', 'NOC', 'CBO', 'RFC', 'LCOM']}\n",
    "\n",
    "weighted_avg_by_date = grouped_metrics.agg(agg_funcs)\n",
    "\n",
    "weighted_avg_by_date\n"
   ]
  }
 ],
 "metadata": {
  "kernelspec": {
   "display_name": "Python 3",
   "language": "python",
   "name": "python3"
  },
  "language_info": {
   "codemirror_mode": {
    "name": "ipython",
    "version": 3
   },
   "file_extension": ".py",
   "mimetype": "text/x-python",
   "name": "python",
   "nbconvert_exporter": "python",
   "pygments_lexer": "ipython3",
   "version": "3.13.2"
  }
 },
 "nbformat": 4,
 "nbformat_minor": 2
}
